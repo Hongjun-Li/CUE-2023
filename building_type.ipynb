{
 "cells": [
  {
   "cell_type": "code",
   "execution_count": 2,
   "metadata": {},
   "outputs": [],
   "source": [
    "import pandas as pd\n",
    "\n",
    "# 读取Excel文件\n",
    "data = pd.read_csv('buildingtype_transposed.csv', header=None)\n",
    "\n",
    "# 初始化一个列表用于存储结果\n",
    "results = []\n",
    "\n",
    "# 遍历每一行数据\n",
    "for index, row in data.iterrows():\n",
    "    # 标记是否找到大于90的列\n",
    "    found = False\n",
    "    \n",
    "    # 遍历前五列\n",
    "    for col in range(5):\n",
    "        if row[col] > 90:\n",
    "            results.append(col + 1)  # 列索引从0开始，所以需要加1\n",
    "            found = True\n",
    "            break  # 找到一个大于90的列就结束循环\n",
    "    \n",
    "    # 如果在前五列中没有找到大于90的列\n",
    "    if not found:\n",
    "        # 遍历剩余列\n",
    "        for col in range(5, 10):\n",
    "            if row[col] > 90:\n",
    "                results.append(col + 1)\n",
    "                found = True\n",
    "                break\n",
    "    \n",
    "    # 如果在前十列中都没有找到大于90的列\n",
    "    if not found:\n",
    "        results.append('mix')\n",
    "\n",
    "# 将结果转换为DataFrame\n",
    "results_df = pd.DataFrame({'Results': results})\n",
    "\n",
    "# 将结果写入Excel文件\n",
    "results_df.to_excel('buildingtype_output.xlsx', index=False,header= None)\n"
   ]
  },
  {
   "cell_type": "code",
   "execution_count": 3,
   "metadata": {},
   "outputs": [
    {
     "name": "stdout",
     "output_type": "stream",
     "text": [
      "mix: 164\n",
      "3: 53\n",
      "4: 63\n",
      "2: 35\n",
      "5: 2\n"
     ]
    }
   ],
   "source": [
    "from collections import Counter\n",
    "\n",
    "result_counts = Counter(results)\n",
    "\n",
    "# 输出统计结果\n",
    "for result, count in result_counts.items():\n",
    "    print(f'{result}: {count}')\n",
    "    \n",
    "# mix,2,3,4,5分别代表混合、办公、住宅、工业、商业"
   ]
  }
 ],
 "metadata": {
  "kernelspec": {
   "display_name": "base",
   "language": "python",
   "name": "python3"
  },
  "language_info": {
   "codemirror_mode": {
    "name": "ipython",
    "version": 3
   },
   "file_extension": ".py",
   "mimetype": "text/x-python",
   "name": "python",
   "nbconvert_exporter": "python",
   "pygments_lexer": "ipython3",
   "version": "3.9.13"
  },
  "orig_nbformat": 4
 },
 "nbformat": 4,
 "nbformat_minor": 2
}
