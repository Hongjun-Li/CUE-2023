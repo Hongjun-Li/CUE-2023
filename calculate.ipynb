{
 "cells": [
  {
   "cell_type": "code",
   "execution_count": 437,
   "metadata": {},
   "outputs": [],
   "source": [
    "import numpy as np\n",
    "from scipy.optimize import newton\n",
    "import pandas as pd"
   ]
  },
  {
   "cell_type": "code",
   "execution_count": 438,
   "metadata": {},
   "outputs": [
    {
     "data": {
      "text/html": [
       "<div>\n",
       "<style scoped>\n",
       "    .dataframe tbody tr th:only-of-type {\n",
       "        vertical-align: middle;\n",
       "    }\n",
       "\n",
       "    .dataframe tbody tr th {\n",
       "        vertical-align: top;\n",
       "    }\n",
       "\n",
       "    .dataframe thead th {\n",
       "        text-align: right;\n",
       "    }\n",
       "</style>\n",
       "<table border=\"1\" class=\"dataframe\">\n",
       "  <thead>\n",
       "    <tr style=\"text-align: right;\">\n",
       "      <th></th>\n",
       "      <th>Average height</th>\n",
       "      <th>Footprint</th>\n",
       "      <th>Roof area</th>\n",
       "      <th>Floor area ratio</th>\n",
       "      <th>Building area</th>\n",
       "      <th>Number</th>\n",
       "      <th>OFF</th>\n",
       "      <th>RES</th>\n",
       "      <th>IND</th>\n",
       "      <th>OTH</th>\n",
       "      <th>Cluster</th>\n",
       "    </tr>\n",
       "  </thead>\n",
       "  <tbody>\n",
       "    <tr>\n",
       "      <th>0</th>\n",
       "      <td>10.909091</td>\n",
       "      <td>0.197174</td>\n",
       "      <td>202239.20120</td>\n",
       "      <td>1.998721</td>\n",
       "      <td>2.050100e+06</td>\n",
       "      <td>1177.0</td>\n",
       "      <td>23.294289</td>\n",
       "      <td>39.909588</td>\n",
       "      <td>5.759907</td>\n",
       "      <td>31.036217</td>\n",
       "      <td>0.0</td>\n",
       "    </tr>\n",
       "    <tr>\n",
       "      <th>1</th>\n",
       "      <td>7.051793</td>\n",
       "      <td>0.016650</td>\n",
       "      <td>93180.15214</td>\n",
       "      <td>0.117903</td>\n",
       "      <td>6.598134e+05</td>\n",
       "      <td>502.0</td>\n",
       "      <td>30.172465</td>\n",
       "      <td>23.400985</td>\n",
       "      <td>0.450657</td>\n",
       "      <td>45.975893</td>\n",
       "      <td>1.0</td>\n",
       "    </tr>\n",
       "    <tr>\n",
       "      <th>2</th>\n",
       "      <td>13.388060</td>\n",
       "      <td>0.367417</td>\n",
       "      <td>19477.53425</td>\n",
       "      <td>5.072184</td>\n",
       "      <td>2.688870e+05</td>\n",
       "      <td>67.0</td>\n",
       "      <td>9.443528</td>\n",
       "      <td>0.000000</td>\n",
       "      <td>90.556472</td>\n",
       "      <td>0.000000</td>\n",
       "      <td>2.0</td>\n",
       "    </tr>\n",
       "    <tr>\n",
       "      <th>3</th>\n",
       "      <td>26.500000</td>\n",
       "      <td>0.333014</td>\n",
       "      <td>36428.15907</td>\n",
       "      <td>9.076837</td>\n",
       "      <td>9.929075e+05</td>\n",
       "      <td>36.0</td>\n",
       "      <td>88.131410</td>\n",
       "      <td>0.000000</td>\n",
       "      <td>11.868590</td>\n",
       "      <td>0.000000</td>\n",
       "      <td>3.0</td>\n",
       "    </tr>\n",
       "    <tr>\n",
       "      <th>4</th>\n",
       "      <td>7.558442</td>\n",
       "      <td>0.213726</td>\n",
       "      <td>19056.18943</td>\n",
       "      <td>1.581319</td>\n",
       "      <td>1.409930e+05</td>\n",
       "      <td>77.0</td>\n",
       "      <td>82.764523</td>\n",
       "      <td>0.237438</td>\n",
       "      <td>0.000000</td>\n",
       "      <td>16.998039</td>\n",
       "      <td>4.0</td>\n",
       "    </tr>\n",
       "    <tr>\n",
       "      <th>5</th>\n",
       "      <td>12.805556</td>\n",
       "      <td>0.293953</td>\n",
       "      <td>46395.28944</td>\n",
       "      <td>3.726849</td>\n",
       "      <td>5.882171e+05</td>\n",
       "      <td>432.0</td>\n",
       "      <td>3.641184</td>\n",
       "      <td>91.713401</td>\n",
       "      <td>3.984771</td>\n",
       "      <td>0.660644</td>\n",
       "      <td>5.0</td>\n",
       "    </tr>\n",
       "  </tbody>\n",
       "</table>\n",
       "</div>"
      ],
      "text/plain": [
       "   Average height  Footprint     Roof area  Floor area ratio  Building area  \\\n",
       "0       10.909091   0.197174  202239.20120          1.998721   2.050100e+06   \n",
       "1        7.051793   0.016650   93180.15214          0.117903   6.598134e+05   \n",
       "2       13.388060   0.367417   19477.53425          5.072184   2.688870e+05   \n",
       "3       26.500000   0.333014   36428.15907          9.076837   9.929075e+05   \n",
       "4        7.558442   0.213726   19056.18943          1.581319   1.409930e+05   \n",
       "5       12.805556   0.293953   46395.28944          3.726849   5.882171e+05   \n",
       "\n",
       "   Number        OFF        RES        IND        OTH  Cluster  \n",
       "0  1177.0  23.294289  39.909588   5.759907  31.036217      0.0  \n",
       "1   502.0  30.172465  23.400985   0.450657  45.975893      1.0  \n",
       "2    67.0   9.443528   0.000000  90.556472   0.000000      2.0  \n",
       "3    36.0  88.131410   0.000000  11.868590   0.000000      3.0  \n",
       "4    77.0  82.764523   0.237438   0.000000  16.998039      4.0  \n",
       "5   432.0   3.641184  91.713401   3.984771   0.660644      5.0  "
      ]
     },
     "execution_count": 438,
     "metadata": {},
     "output_type": "execute_result"
    }
   ],
   "source": [
    "typical_unit = pd.read_csv('typical_unit.csv')\n",
    "typical_unit"
   ]
  },
  {
   "cell_type": "markdown",
   "metadata": {},
   "source": [
    "#### 逐时数据准备"
   ]
  },
  {
   "cell_type": "code",
   "execution_count": 439,
   "metadata": {},
   "outputs": [],
   "source": [
    "# 六个典型小区的总光伏和能耗\n",
    "typical_EN = pd.read_csv('combined_sumcon.csv')\n",
    "typical_PV = pd.read_csv('typical_PV.csv')\n",
    "\n",
    "columns_to_process = ['0', '1', '5', '6', '8', '22']\n",
    "\n",
    "# 创建一个字典，用于存储重组后的 DataFrame\n",
    "reorganized_data = {}\n",
    "\n",
    "# 遍历需要操作的列名\n",
    "for col_name in columns_to_process:\n",
    "    # 提取对应列的数据\n",
    "    data_PV = typical_PV[col_name]/1.334886976\n",
    "    data_EN = typical_EN[col_name]\n",
    "    \n",
    "    # 创建新的 DataFrame\n",
    "    df = pd.DataFrame({'PV': data_PV, 'EN': data_EN})\n",
    "    \n",
    "    # 将新的 DataFrame 放入字典中，以列名作为键\n",
    "    reorganized_data[f'SC{col_name}'] = df\n",
    "\n",
    "# 通过字典访问生成的 DataFrames\n",
    "SC0 = reorganized_data['SC0']\n",
    "SC1 = reorganized_data['SC1']\n",
    "SC5 = reorganized_data['SC5']\n",
    "SC6 = reorganized_data['SC6']\n",
    "SC8 = reorganized_data['SC8']\n",
    "SC22 = reorganized_data['SC22']"
   ]
  },
  {
   "cell_type": "code",
   "execution_count": 442,
   "metadata": {},
   "outputs": [],
   "source": [
    "# 判断光伏自用、电网供电和光伏上网\n",
    "\n",
    "def classification(SCn):\n",
    "    SCn['PVcharge'] = SCn.apply(lambda x: min(x['EN'], x['PV']), axis=1)\n",
    "    SCn['gridcharge'] = SCn['EN'] - SCn['PVcharge']\n",
    "    SCn['PV2G'] = SCn['PV']-SCn['PVcharge']\n",
    "    return SCn\n",
    "\n",
    "classified_SC5 = classification(SC5)\n",
    "\n",
    "# classified_SC0.to_csv('classified_SC0.csv', index=False)"
   ]
  },
  {
   "cell_type": "code",
   "execution_count": 443,
   "metadata": {},
   "outputs": [
    {
     "data": {
      "text/html": [
       "<div>\n",
       "<style scoped>\n",
       "    .dataframe tbody tr th:only-of-type {\n",
       "        vertical-align: middle;\n",
       "    }\n",
       "\n",
       "    .dataframe tbody tr th {\n",
       "        vertical-align: top;\n",
       "    }\n",
       "\n",
       "    .dataframe thead th {\n",
       "        text-align: right;\n",
       "    }\n",
       "</style>\n",
       "<table border=\"1\" class=\"dataframe\">\n",
       "  <thead>\n",
       "    <tr style=\"text-align: right;\">\n",
       "      <th></th>\n",
       "      <th>PV</th>\n",
       "      <th>EN</th>\n",
       "      <th>PVcharge</th>\n",
       "      <th>gridcharge</th>\n",
       "      <th>PV2G</th>\n",
       "    </tr>\n",
       "  </thead>\n",
       "  <tbody>\n",
       "    <tr>\n",
       "      <th>0</th>\n",
       "      <td>0.0</td>\n",
       "      <td>5212.377598</td>\n",
       "      <td>0.0</td>\n",
       "      <td>5212.377598</td>\n",
       "      <td>0.0</td>\n",
       "    </tr>\n",
       "    <tr>\n",
       "      <th>1</th>\n",
       "      <td>0.0</td>\n",
       "      <td>5222.233432</td>\n",
       "      <td>0.0</td>\n",
       "      <td>5222.233432</td>\n",
       "      <td>0.0</td>\n",
       "    </tr>\n",
       "    <tr>\n",
       "      <th>2</th>\n",
       "      <td>0.0</td>\n",
       "      <td>5521.991365</td>\n",
       "      <td>0.0</td>\n",
       "      <td>5521.991365</td>\n",
       "      <td>0.0</td>\n",
       "    </tr>\n",
       "    <tr>\n",
       "      <th>3</th>\n",
       "      <td>0.0</td>\n",
       "      <td>5875.219935</td>\n",
       "      <td>0.0</td>\n",
       "      <td>5875.219935</td>\n",
       "      <td>0.0</td>\n",
       "    </tr>\n",
       "    <tr>\n",
       "      <th>4</th>\n",
       "      <td>0.0</td>\n",
       "      <td>6297.589031</td>\n",
       "      <td>0.0</td>\n",
       "      <td>6297.589031</td>\n",
       "      <td>0.0</td>\n",
       "    </tr>\n",
       "    <tr>\n",
       "      <th>...</th>\n",
       "      <td>...</td>\n",
       "      <td>...</td>\n",
       "      <td>...</td>\n",
       "      <td>...</td>\n",
       "      <td>...</td>\n",
       "    </tr>\n",
       "    <tr>\n",
       "      <th>8755</th>\n",
       "      <td>0.0</td>\n",
       "      <td>8950.783311</td>\n",
       "      <td>0.0</td>\n",
       "      <td>8950.783311</td>\n",
       "      <td>0.0</td>\n",
       "    </tr>\n",
       "    <tr>\n",
       "      <th>8756</th>\n",
       "      <td>0.0</td>\n",
       "      <td>8724.898358</td>\n",
       "      <td>0.0</td>\n",
       "      <td>8724.898358</td>\n",
       "      <td>0.0</td>\n",
       "    </tr>\n",
       "    <tr>\n",
       "      <th>8757</th>\n",
       "      <td>0.0</td>\n",
       "      <td>7705.160904</td>\n",
       "      <td>0.0</td>\n",
       "      <td>7705.160904</td>\n",
       "      <td>0.0</td>\n",
       "    </tr>\n",
       "    <tr>\n",
       "      <th>8758</th>\n",
       "      <td>0.0</td>\n",
       "      <td>6491.797565</td>\n",
       "      <td>0.0</td>\n",
       "      <td>6491.797565</td>\n",
       "      <td>0.0</td>\n",
       "    </tr>\n",
       "    <tr>\n",
       "      <th>8759</th>\n",
       "      <td>0.0</td>\n",
       "      <td>6172.783729</td>\n",
       "      <td>0.0</td>\n",
       "      <td>6172.783729</td>\n",
       "      <td>0.0</td>\n",
       "    </tr>\n",
       "  </tbody>\n",
       "</table>\n",
       "<p>8760 rows × 5 columns</p>\n",
       "</div>"
      ],
      "text/plain": [
       "       PV           EN  PVcharge   gridcharge  PV2G\n",
       "0     0.0  5212.377598       0.0  5212.377598   0.0\n",
       "1     0.0  5222.233432       0.0  5222.233432   0.0\n",
       "2     0.0  5521.991365       0.0  5521.991365   0.0\n",
       "3     0.0  5875.219935       0.0  5875.219935   0.0\n",
       "4     0.0  6297.589031       0.0  6297.589031   0.0\n",
       "...   ...          ...       ...          ...   ...\n",
       "8755  0.0  8950.783311       0.0  8950.783311   0.0\n",
       "8756  0.0  8724.898358       0.0  8724.898358   0.0\n",
       "8757  0.0  7705.160904       0.0  7705.160904   0.0\n",
       "8758  0.0  6491.797565       0.0  6491.797565   0.0\n",
       "8759  0.0  6172.783729       0.0  6172.783729   0.0\n",
       "\n",
       "[8760 rows x 5 columns]"
      ]
     },
     "execution_count": 443,
     "metadata": {},
     "output_type": "execute_result"
    }
   ],
   "source": [
    "classified_SC5"
   ]
  },
  {
   "cell_type": "code",
   "execution_count": 444,
   "metadata": {},
   "outputs": [
    {
     "data": {
      "text/plain": [
       "26996319.92045037"
      ]
     },
     "execution_count": 444,
     "metadata": {},
     "output_type": "execute_result"
    }
   ],
   "source": [
    "classified_SC5['PV'].sum()"
   ]
  },
  {
   "cell_type": "markdown",
   "metadata": {},
   "source": [
    "#### 能量"
   ]
  },
  {
   "cell_type": "code",
   "execution_count": 445,
   "metadata": {},
   "outputs": [
    {
     "name": "stdout",
     "output_type": "stream",
     "text": [
      "Sum of each column in typical_PV:\n",
      "0     2.576520e+06\n",
      "1     6.244251e+06\n",
      "5     2.699632e+07\n",
      "6     2.482435e+06\n",
      "8     1.232355e+07\n",
      "22    4.304789e+06\n",
      "dtype: float64\n"
     ]
    }
   ],
   "source": [
    "# 求总发电量\n",
    "\n",
    "column_sums = typical_PV.sum()/1.334886976 # 数据补齐后存在参数\n",
    "print(\"Sum of each column in typical_PV:\")\n",
    "print(column_sums)\n"
   ]
  },
  {
   "cell_type": "code",
   "execution_count": 446,
   "metadata": {},
   "outputs": [
    {
     "name": "stdout",
     "output_type": "stream",
     "text": [
      "Sum of each column in typical_EN:\n",
      "0     5.789079e+06\n",
      "1     4.875568e+07\n",
      "5     1.166639e+08\n",
      "6     9.911961e+06\n",
      "8     3.573033e+07\n",
      "22    4.166429e+07\n",
      "dtype: float64\n"
     ]
    }
   ],
   "source": [
    "# 求总能耗\n",
    "\n",
    "column_sums = typical_EN.sum()\n",
    "print(\"Sum of each column in typical_EN:\")\n",
    "print(column_sums)"
   ]
  },
  {
   "cell_type": "code",
   "execution_count": 447,
   "metadata": {},
   "outputs": [
    {
     "name": "stdout",
     "output_type": "stream",
     "text": [
      "Self_consumption: 0.9818341730713696\n"
     ]
    }
   ],
   "source": [
    "# 求自消耗率\n",
    "\n",
    "pvcharge_sum = classified_SC5['PVcharge'].sum()\n",
    "pv_sum = classified_SC5['PV'].sum()\n",
    "\n",
    "# 计算 PVcharge 列和 PV 列的比值\n",
    "Self_consumption5 = pvcharge_sum / pv_sum\n",
    "print(\"Self_consumption:\", Self_consumption5)"
   ]
  },
  {
   "cell_type": "markdown",
   "metadata": {},
   "source": [
    "光伏自消耗率：指光伏发电系统中，自身消耗的电力占总发电量的比例。光伏自消耗率越低，说明光伏发电系统的能源利用率越高，系统运行效率越好。"
   ]
  },
  {
   "cell_type": "code",
   "execution_count": 448,
   "metadata": {},
   "outputs": [
    {
     "name": "stdout",
     "output_type": "stream",
     "text": [
      "Self_sufficiency: 0.22719892721098509\n"
     ]
    }
   ],
   "source": [
    "# 求自满足率\n",
    "\n",
    "pvcharge_sum = classified_SC5['PVcharge'].sum()\n",
    "en_sum = classified_SC5['EN'].sum()\n",
    "\n",
    "# 计算 PVcharge 列和 PV 列的比值\n",
    "Self_consumption5 = pvcharge_sum / en_sum\n",
    "print(\"Self_sufficiency:\", Self_consumption5)"
   ]
  },
  {
   "cell_type": "markdown",
   "metadata": {},
   "source": [
    "指光伏发电系统中，自身能够满足的电力需求占总需求量的比例。光伏自满足率越高，说明光伏发电系统对自身电力需求的满足程度越好，从而减少了对传统能源的依赖，提高了经济性和环保性。"
   ]
  },
  {
   "cell_type": "markdown",
   "metadata": {},
   "source": [
    "#### 环境"
   ]
  },
  {
   "cell_type": "code",
   "execution_count": 449,
   "metadata": {},
   "outputs": [
    {
     "name": "stdout",
     "output_type": "stream",
     "text": [
      "Total energy consumption: 116663884.68661734\n",
      "Total carbon emission: 43725623.98054418\n"
     ]
    }
   ],
   "source": [
    "# 运行阶段碳排放\n",
    "# 假设已经获得了光伏发电和能耗数据\n",
    "\n",
    "total_energy_consumption = classified_SC5['EN'].sum()\n",
    "\n",
    "emission_factor_electricity = 0.3748 # kgCO2/kWh\n",
    "\n",
    "# 计算全年运行阶段碳排放量\n",
    "total_emission = total_energy_consumption * emission_factor_electricity\n",
    "\n",
    "\n",
    "print(\"Total energy consumption:\", total_energy_consumption)\n",
    "print(\"Total carbon emission:\", total_emission)"
   ]
  },
  {
   "cell_type": "markdown",
   "metadata": {},
   "source": [
    "#### 经济"
   ]
  },
  {
   "cell_type": "code",
   "execution_count": 450,
   "metadata": {},
   "outputs": [],
   "source": [
    "def priceGrid(lst):\n",
    "    step=[0, 0, 0, 0, 0, 0, 0, 1, 1, 2, 2, 1, 1, 1, 2, 2, 1, 1, 1, 2, 2, 1, 1, 0]\n",
    "    bill=np.zeros([len(lst)])\n",
    "    for i in range(len(lst)):\n",
    "        h=i%24\n",
    "        if step[h]==0:\n",
    "            bill[i]=lst[i]*0.1911\n",
    "        if step[h]==1:\n",
    "            bill[i]=lst[i]*0.6603\n",
    "        if step[h]==2:\n",
    "            bill[i]=lst[i]*0.8949\n",
    "    return (bill)"
   ]
  },
  {
   "cell_type": "code",
   "execution_count": 476,
   "metadata": {},
   "outputs": [
    {
     "data": {
      "text/plain": [
       "473.3456747222449"
      ]
     },
     "execution_count": 476,
     "metadata": {},
     "output_type": "execute_result"
    }
   ],
   "source": [
    "# 自发自用余电上网\n",
    "\n",
    "# 自发自用省的\n",
    "hour_price_grid = priceGrid(classified_SC1['PVcharge'])\n",
    "tot_price_grid = np.sum(hour_price_grid)\n",
    "\n",
    "\n",
    "# 光伏上网赚的\n",
    "price_PV = 0.4530 * classified_SC1['PV2G'].sum()\n",
    "\n",
    "# 政府补贴的\n",
    "gov_price = 0.3 * classified_SC1['PV2G'].sum()\n",
    "\n",
    "benefit = tot_price_grid + price_PV + gov_price\n",
    "\n",
    "\n",
    "benefit / 10000  # 用光伏后每年的收益，单位：万元"
   ]
  },
  {
   "cell_type": "markdown",
   "metadata": {},
   "source": [
    "#### 此处调用面积的时候需要注意对应顺序，光伏能耗数据是按照顺序的，但unit不是"
   ]
  },
  {
   "cell_type": "code",
   "execution_count": 475,
   "metadata": {},
   "outputs": [
    {
     "data": {
      "text/plain": [
       "1905.618943"
      ]
     },
     "execution_count": 475,
     "metadata": {},
     "output_type": "execute_result"
    }
   ],
   "source": [
    "typical_unit.loc[4, 'Roof area'] * 1000 / 10000  # 初始投资"
   ]
  },
  {
   "cell_type": "markdown",
   "metadata": {},
   "source": [
    "#### 计算IRR"
   ]
  },
  {
   "cell_type": "code",
   "execution_count": 485,
   "metadata": {},
   "outputs": [
    {
     "name": "stdout",
     "output_type": "stream",
     "text": [
      "计算得到的IRR: 0.0902645003387917\n",
      "计算得到的Payback Year: 11\n"
     ]
    }
   ],
   "source": [
    "import numpy_financial as npf\n",
    "from scipy.optimize import fsolve\n",
    "\n",
    "# 初始投资\n",
    "initial_investment = -typical_unit.loc[5, 'Roof area'] * 1000/10000  # 负数表示投资支出，单位万元\n",
    "\n",
    "# 每年净收入，包括初始投资后的收入\n",
    "net_inflows = [benefit / 10000] * 25  # 创建包含25个年收入的列表\n",
    "\n",
    "# 计算IRR函数\n",
    "def irr_func(rate):\n",
    "    return npf.npv(rate, [initial_investment] + net_inflows)\n",
    "\n",
    "# 使用fsolve函数计算IRR\n",
    "irr = fsolve(irr_func, 0.1)[0]  # 初始猜测IRR为0.1，可根据实际情况调整\n",
    "\n",
    "# 计算payback year\n",
    "cumulative_cashflows = [initial_investment]  # 初始投资先作为第一个累积现金流\n",
    "for i in range(1, len(net_inflows)):\n",
    "    cumulative_cashflow = cumulative_cashflows[i - 1] + net_inflows[i]\n",
    "    cumulative_cashflows.append(cumulative_cashflow)\n",
    "    if cumulative_cashflow >= 0:\n",
    "        payback_year = i + 1  # 加1是因为列表索引从0开始，而年份从1开始\n",
    "        break\n",
    "\n",
    "print(\"计算得到的IRR:\", irr)\n",
    "print(\"计算得到的Payback Year:\", payback_year)"
   ]
  },
  {
   "cell_type": "markdown",
   "metadata": {},
   "source": [
    "IRR分布在8%左右，能得到不错的对比"
   ]
  },
  {
   "cell_type": "markdown",
   "metadata": {},
   "source": [
    "#### 计算LCOE"
   ]
  },
  {
   "cell_type": "code",
   "execution_count": 461,
   "metadata": {},
   "outputs": [
    {
     "name": "stdout",
     "output_type": "stream",
     "text": [
      "LCOE: 0.6834298538973576 CNY/kWh\n"
     ]
    }
   ],
   "source": [
    "import math\n",
    "\n",
    "def calculate_lcoe(capital_cost, initial_opex, life, annual_energy_production, inflation_rate):\n",
    "\n",
    "    total_cost_present_value = capital_cost\n",
    "    opex_sum = 0\n",
    "    annual_energy_sum = 0\n",
    "\n",
    "    for year in range(1, life + 1):\n",
    "        total_cost_present_value += initial_opex / (1 + inflation_rate) ** year\n",
    "        opex_sum += initial_opex / (1 + inflation_rate) ** year\n",
    "        annual_energy_sum += annual_energy_production / (1 + inflation_rate) ** year\n",
    "\n",
    "    lcoe = total_cost_present_value / annual_energy_sum\n",
    "    return lcoe\n",
    "\n",
    "capital_cost = typical_unit.loc[5, 'Roof area'] * 1000\n",
    "initial_opex = typical_unit.loc[5, 'Roof area'] * 10\n",
    "life = 25\n",
    "annual_energy_production = classified_SC1['PV'].sum()\n",
    "inflation_rate = 0.065\n",
    "\n",
    "lcoe = calculate_lcoe(capital_cost, initial_opex, life, annual_energy_production, inflation_rate)\n",
    "print(\"LCOE:\", lcoe, \"CNY/kWh\")"
   ]
  },
  {
   "cell_type": "markdown",
   "metadata": {},
   "source": [
    "分布式光伏度电成本低于当地工商业用户的电价。说明用户方在目前的技术和成本水平下已经能够接入平价。从发电端来看，分布式光伏度电成本均高于当地脱硫煤价。揭示出，在目前的技术水平下，分布式光伏在发电侧实现平价上网仍存在一定难度。"
   ]
  },
  {
   "cell_type": "markdown",
   "metadata": {},
   "source": [
    "并且遮挡率和LCOE成正相关关系，表示了在同一个地区下，社区形态的复杂性带来的不同遮挡率对LCOE存在明显的影响，需要避开遮挡率大的社区。"
   ]
  }
 ],
 "metadata": {
  "kernelspec": {
   "display_name": "base",
   "language": "python",
   "name": "python3"
  },
  "language_info": {
   "codemirror_mode": {
    "name": "ipython",
    "version": 3
   },
   "file_extension": ".py",
   "mimetype": "text/x-python",
   "name": "python",
   "nbconvert_exporter": "python",
   "pygments_lexer": "ipython3",
   "version": "3.9.13"
  },
  "orig_nbformat": 4
 },
 "nbformat": 4,
 "nbformat_minor": 2
}
